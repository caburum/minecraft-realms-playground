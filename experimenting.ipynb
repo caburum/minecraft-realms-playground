{
 "cells": [
  {
   "cell_type": "code",
   "execution_count": null,
   "metadata": {},
   "outputs": [],
   "source": [
    "from api import xboxAPI\n",
    "import json\n",
    "xuid = xboxAPI.tokens['userXUID']\n",
    "print(xuid)"
   ]
  },
  {
   "cell_type": "code",
   "execution_count": null,
   "metadata": {},
   "outputs": [],
   "source": [
    "from api import realmsAPI, getRealms\n",
    "realms = getRealms()\n",
    "realmId = realms[0]['id']\n",
    "system_stories = realmsAPI.session.get(f'https://frontend.realms.minecraft-services.net/api/v1.0/worlds/{realmId}/stories').json()\n",
    "# add `?new=true` to only get new stories\n",
    "print(system_stories)\n",
    "# this endpoint only returns system messages, not player posts\n",
    "# however posts are returned like `userposts.xboxlive.com/users/xuid({posterXuid})/posts/{uuid}/timelines/Club/{clubId}` hinting to use the clubs api"
   ]
  },
  {
   "cell_type": "code",
   "execution_count": null,
   "metadata": {},
   "outputs": [],
   "source": [
    "print(xboxAPI.session.get('https://' + system_stories['result'][0]['clubsPostId']).json())\n",
    "# this gives some more hints about a timeline (feed) existing, plus additional specific data under the \"MinecraftContent\" locatorType of postContentLocators\n",
    "# todo: find how to get the minecraft coordinates from the post"
   ]
  },
  {
   "cell_type": "code",
   "execution_count": null,
   "metadata": {},
   "outputs": [],
   "source": [
    "from enum import StrEnum\n",
    "class URL(StrEnum):\n",
    "\t# all service urls from one section of the strings\n",
    "\tUSERPOSTS = 'https://userposts.xboxlive.com'\n",
    "\tCLUBPROFILE = 'https://clubprofile.xboxlive.com'\n",
    "\tMEDIAHUB = 'https://mediahub.xboxlive.com'\n",
    "\tREPUTATION = 'https://reputation.xboxlive.com'\n",
    "\tCLUBMODERATION = 'https://clubmoderation.xboxlive.com'\n",
    "\tCLUBHUB = 'https://clubhub.xboxlive.com'\n",
    "\tCLUBPRESENCE = 'https://clubpresence.xboxlive.com'\n",
    "\tCOMMENTS = 'https://comments.xboxlive.com'\n",
    "\tACTIVITY = 'https://avty.xboxlive.com'\n",
    "\tCLUBACCOUNTS = 'https://clubaccounts.xboxlive.com'\n",
    "\n",
    "\tSOCIAL = 'https://social.xboxlive.com'\n",
    "\tSESSIONDIRECTORY = 'https://sessiondirectory.xboxlive.com'\n",
    "\tPROFILE = 'https://profile.xboxlive.com'\n",
    "\tPEOPLEHUB = 'https://peoplehub.xboxlive.com'\n",
    "\tUSERPRESENCE = 'https://userpresence.xboxlive.com'\n",
    "\tSCREENSHOTSMETADATA = 'https://screenshotsmetadata.xboxlive.com'\n",
    "\tUSERSTATS = 'https://userstats.xboxlive.com'\n",
    "\tPRIVACY = 'https://privacy.xboxlive.com'\n",
    "\tACHIEVEMENTS = 'https://achievements.xboxlive.com'\n",
    "\n",
    "\tPOCKET = 'https://pocket.realms.minecraft.net'\n",
    "\tREALMS_FRONTEND = 'https://frontend.realms.minecraft-services.net'\n",
    "\tMULTIPLAYER = 'https://multiplayer.minecraft.net'\n",
    "\n",
    "\tdef __repr__(self):\n",
    "\t\treturn self.value"
   ]
  },
  {
   "cell_type": "code",
   "execution_count": null,
   "metadata": {},
   "outputs": [],
   "source": [
    "# wraps xbox api with some useful stuff for testing\n",
    "def req(url, version, method='get', headers={}, debug=False, **kwargs):\n",
    "\tres = xboxAPI.session.request(method, url, headers={\n",
    "\t\t'x-xbl-contract-version': str(version), # postmortem: this is actually very important! if something doesn't work, try incrementing this\n",
    "\t\t'accept-language': 'en-US',\n",
    "\t\t**headers\n",
    "\t}, **kwargs)\n",
    "\tif debug:\n",
    "\t\tprint(res, res.text, res.headers)\n",
    "\t\t# try: print(json.dumps(res.json(), indent='\\t'))\n",
    "\t\t# except: pass\n",
    "\treturn res"
   ]
  },
  {
   "cell_type": "code",
   "execution_count": null,
   "metadata": {},
   "outputs": [],
   "source": [
    "clubs_data = req(f'{URL.CLUBHUB}/clubs/xuid(' + xuid + ')/decoration/detail,settings', version=5)\n",
    "realm_club = next(club for club in clubs_data.json()['clubs'] if club['clubType']['localizedTitleFamilyName'] == 'Minecraft Realm') # todo: not first only\n",
    "print(realm_club)\n",
    "clubId = realm_club['id']"
   ]
  },
  {
   "cell_type": "code",
   "execution_count": null,
   "metadata": {},
   "outputs": [],
   "source": [
    "# url extracted from bedrock's strings, version from old xbox mobile app (tested 2006.0624.0047)\n",
    "req(f'{URL.ACTIVITY}/clubs/clubId({clubId})/Activity/Feed?titleIds=1944307183;1739947436;1909043648;1810924247;1916611344;896928775;1828326430;1835298427;2047319603;1834660005;&imgSrc=Known', version='13').json()\n",
    "# try also: `?numItems=50``"
   ]
  },
  {
   "cell_type": "code",
   "execution_count": null,
   "metadata": {},
   "outputs": [],
   "source": [
    "# req(f'{URL.USERPOSTS}/users/me/posts')"
   ]
  },
  {
   "cell_type": "code",
   "execution_count": null,
   "metadata": {},
   "outputs": [],
   "source": [
    "req(f'{URL.COMMENTS}/summaries/batch', version=3, method='post', json={\n",
    "\t'rootPaths': [\n",
    "\t\t# xbox mobile app uses 'avty.xboxlive.com/users/xuid(####)/contexts/####/activity/####' format, but timeline one provided by realms api works too\n",
    "\t\tsystem_stories['result'][0]['clubsPostId']\n",
    "\t]\n",
    "}).json()"
   ]
  },
  {
   "cell_type": "markdown",
   "metadata": {},
   "source": [
    "some other strings found in the bedrock executable, could potentially be useful endpoints:\n",
    "* `timelines/club/BulkUnreadCount`\n",
    "* `timelines/club/{0}/UnreadCount`\n",
    "* `/clubs/{0}/users/xuid({1})`\n",
    "* `/clubs/{0}/users/xuid({1})/session?titleFamilyId={2}`\n",
    "* `clubs/Ids({0})/`\n",
    "* `/clubs/{0}/reporteditems`\n",
    "* `clubs/{0}/reporteditems/batch/delete`\n",
    "* `{0}/likes/me`\n",
    "* `{0}/comments/`\n",
    "* `{0}/relationships/view/me`\n",
    "* `clubs/{0}/profile`\n",
    "* `/users/xuid({0})/feedback`\n",
    "* `screenshotsmetadata.xboxlive.com/users/xuid(` `)/scids/00000000-0000-0000-0000-000000000000/screenshots/`\n",
    "* `/screenshots/create`\n",
    "* `&comp=block&blockId=QmxvY2tJZDAwMDAwMDE=`"
   ]
  },
  {
   "cell_type": "code",
   "execution_count": null,
   "metadata": {},
   "outputs": [],
   "source": [
    "# failed brute force attempt to find the right server for the string \"timelines/club/BulkUnreadCount\" found in minecraft's strings\n",
    "# for host in URL:\n",
    "# \tprint('### ' + host + ' ###')\n",
    "# \treq(f'{host}/timelines/club/BulkUnreadCount', version=13, debug=True)"
   ]
  },
  {
   "cell_type": "code",
   "execution_count": null,
   "metadata": {},
   "outputs": [],
   "source": [
    "all_screenshots = req(f'{URL.SCREENSHOTSMETADATA}/users/xuid({xuid})/screenshots', version=5, debug=True).json()\n",
    "# also_all_screenshots = req(f'{URL.SCREENSHOTSMETADATA}/users/xuid({xuid})/scids/{all_screenshots['screenshots'][0]['scid']}/screenshots', version=5, debug=True)"
   ]
  },
  {
   "cell_type": "code",
   "execution_count": null,
   "metadata": {},
   "outputs": [],
   "source": [
    "req('https://avty.xboxlive.com/timelines/club/BulkUnreadCount', method='options', version=13, debug=True)"
   ]
  },
  {
   "cell_type": "markdown",
   "metadata": {},
   "source": [
    "from live memory dump:\n",
    "* `https://gatherings-secondary.franchise.minecraft-services.net`\n",
    "\t* `https://gatherings-secondary.franchise.minecraft-services.net/api/v1.0/config/public/{uuid}?lang=en-US&clientVersion=1.21.1&clientPlatform=Windows10&clientSubPlatform=Windows10`\n",
    "* `https://messaging.mktpl.minecraft-services.net`\n",
    "\t* `https://messaging.mktpl.minecraft-services.net/api/v1.0/session/start`\n",
    "* `https://store.mktpl.minecraft-services.net`\n",
    "\t* `https://store.mktpl.minecraft-services.net/api/v1.0/inventory/refresh`\n",
    "* `https://frontend.realms.minecraft-services.net`\n",
    "* `https://safety.franchise.minecraft-services.net`\n",
    "* `wss://signal.franchise.minecraft-services.net`\n",
    "* `https://persona-secondary.franchise.minecraft-services.net/api/v1.0/appearance/retrieve?profilenames=personaProfile1&profilenames=personaProfile2&profilenames=personaProfile3&profilenames=personaProfile4&profilenames=personaProfile5&profilenames=personaProfile`\n",
    "* `https://achievements.xboxlive.com/users/xuid({xuid}})/achievements?titleId=896928775&types=Persistent&maxItems=25`\n",
    "* `https://sessiondirectory.xboxlive.com/handles/query?include=relatedInfo,customProperties` (analytics)"
   ]
  },
  {
   "cell_type": "code",
   "execution_count": null,
   "metadata": {},
   "outputs": [],
   "source": [
    "realmsAPI.session.get(f'https://pocket.realms.minecraft.net/worlds/{realmId}/stories/settings').json()"
   ]
  }
 ],
 "metadata": {
  "language_info": {
   "name": "python"
  }
 },
 "nbformat": 4,
 "nbformat_minor": 2
}
